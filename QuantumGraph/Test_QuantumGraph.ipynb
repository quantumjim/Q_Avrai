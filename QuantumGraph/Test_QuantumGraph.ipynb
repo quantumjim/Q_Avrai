{
 "cells": [
  {
   "cell_type": "code",
   "execution_count": 1,
   "metadata": {},
   "outputs": [],
   "source": [
    "from QuantumGraph import QuantumGraph\n",
    "import numpy as np"
   ]
  },
  {
   "cell_type": "code",
   "execution_count": null,
   "metadata": {},
   "outputs": [],
   "source": []
  },
  {
   "cell_type": "code",
   "execution_count": 2,
   "metadata": {},
   "outputs": [],
   "source": [
    "eps = 0.05"
   ]
  },
  {
   "cell_type": "code",
   "execution_count": null,
   "metadata": {},
   "outputs": [],
   "source": []
  },
  {
   "cell_type": "code",
   "execution_count": 3,
   "metadata": {},
   "outputs": [],
   "source": [
    "n = 5\n",
    "graph = QuantumGraph(n)"
   ]
  },
  {
   "cell_type": "code",
   "execution_count": null,
   "metadata": {},
   "outputs": [],
   "source": []
  },
  {
   "cell_type": "code",
   "execution_count": 4,
   "metadata": {},
   "outputs": [],
   "source": [
    "initial_rho = {'X': 0.0, 'Y': 0.0, 'Z': 1.0}\n",
    "for j in range(n):\n",
    "    rho = graph.get_state(j)\n",
    "    for pauli in ['X','Y','Z']:\n",
    "        assert abs(rho[pauli]-initial_rho[pauli])<eps, print('Problem with qubit',j,':',rho)"
   ]
  },
  {
   "cell_type": "code",
   "execution_count": null,
   "metadata": {},
   "outputs": [],
   "source": []
  },
  {
   "cell_type": "code",
   "execution_count": 5,
   "metadata": {
    "scrolled": false
   },
   "outputs": [],
   "source": [
    "rho_2 = {'X': 1.0, 'Y': 0.0, 'Z': 0.0}\n",
    "q_2 = 2\n",
    "graph.set_state(rho_2,q_2)\n",
    "for j in range(n):\n",
    "    rho = graph.get_state(j)\n",
    "    for pauli in ['X','Y','Z']:\n",
    "        if j==q_2:\n",
    "            assert abs(rho[pauli]-rho_2[pauli])<eps, print('Problem with qubit',j,':',rho)\n",
    "        else:\n",
    "            assert abs(rho[pauli]-initial_rho[pauli])<eps, print('Problem with qubit',j,':',rho)\n",
    "            \n"
   ]
  },
  {
   "cell_type": "code",
   "execution_count": null,
   "metadata": {},
   "outputs": [],
   "source": []
  },
  {
   "cell_type": "code",
   "execution_count": 6,
   "metadata": {},
   "outputs": [],
   "source": [
    "assert abs(graph.get_relationship(1,2)['ZX']-1)<eps\n",
    "assert abs(graph.get_relationship(2,1)['XZ']-1)<eps"
   ]
  },
  {
   "cell_type": "code",
   "execution_count": null,
   "metadata": {},
   "outputs": [],
   "source": []
  },
  {
   "cell_type": "code",
   "execution_count": 7,
   "metadata": {},
   "outputs": [],
   "source": [
    "rho_3 = {'X': 1, 'Y': 1, 'Z': 0.0}\n",
    "q_3 = 3\n",
    "graph.set_state(rho_3,q_3)\n",
    "rho_3 = {'X': 1/np.sqrt(2), 'Y': 1/np.sqrt(2), 'Z': 0.0}\n",
    "for j in range(n):\n",
    "    rho = graph.get_state(j)\n",
    "    for pauli in ['X','Y','Z']:\n",
    "        if j==q_2:\n",
    "            assert abs(rho[pauli]-rho_2[pauli])<eps, print('Problem with qubit',j,':',rho)\n",
    "        elif j==q_3:\n",
    "            assert abs(rho[pauli]-rho_3[pauli])<eps, print('Problem with qubit',j,':',rho)\n",
    "        else:\n",
    "            assert abs(rho[pauli]-initial_rho[pauli])<eps, print('Problem with qubit',j,':',rho)"
   ]
  },
  {
   "cell_type": "code",
   "execution_count": null,
   "metadata": {},
   "outputs": [],
   "source": []
  },
  {
   "cell_type": "code",
   "execution_count": 8,
   "metadata": {},
   "outputs": [],
   "source": [
    "rho_4 = {'X': 1.0, 'Y': 0.0, 'Z': 0.0}\n",
    "q_4 = 4\n",
    "graph.set_state(rho_4,q_4,fraction=0.5)\n",
    "rho_4 = {'X': 1/np.sqrt(2), 'Y': 0.0, 'Z': 1/np.sqrt(2)}\n",
    "for j in range(n):\n",
    "    rho = graph.get_state(j)\n",
    "    for pauli in ['X','Y','Z']:\n",
    "        if j==q_2:\n",
    "            assert abs(rho[pauli]-rho_2[pauli])<eps, print('Problem with qubit',j,':',rho)\n",
    "        elif j==q_3:\n",
    "            assert abs(rho[pauli]-rho_3[pauli])<eps, print('Problem with qubit',j,':',rho)\n",
    "        elif j==q_4:\n",
    "            assert abs(rho[pauli]-rho_4[pauli])<eps, print('Problem with qubit',j,':',rho)\n",
    "        else:\n",
    "            assert abs(rho[pauli]-initial_rho[pauli])<eps, print('Problem with qubit',j,':',rho)"
   ]
  },
  {
   "cell_type": "code",
   "execution_count": null,
   "metadata": {},
   "outputs": [],
   "source": []
  },
  {
   "cell_type": "code",
   "execution_count": 10,
   "metadata": {},
   "outputs": [],
   "source": [
    "graph.backend = 'depolarized'\n",
    "graph.update_tomography()\n",
    "for j in range(n):\n",
    "    rho = graph.get_state(j)\n",
    "    for pauli in ['X','Y','Z']:\n",
    "        assert abs(rho[pauli]<eps), print('Problem with qubit',j,':',rho)"
   ]
  },
  {
   "cell_type": "code",
   "execution_count": null,
   "metadata": {},
   "outputs": [],
   "source": []
  },
  {
   "cell_type": "code",
   "execution_count": 12,
   "metadata": {},
   "outputs": [
    {
     "data": {
      "text/plain": [
       "''"
      ]
     },
     "execution_count": 12,
     "metadata": {},
     "output_type": "execute_result"
    }
   ],
   "source": [
    "'''relationships = [('XX',+1),('YY',+1)]\n",
    "graph.set_relationship(relationships,1,2)\n",
    "rho_12 = graph.get_relationship(1,2)\n",
    "for (pauli,sign) in relationships:\n",
    "    assert abs(rho_12[pauli]-sign)<2*eps, print('Problem with `set_relationship`:',rho)'''\n",
    ";"
   ]
  },
  {
   "cell_type": "code",
   "execution_count": null,
   "metadata": {},
   "outputs": [],
   "source": []
  }
 ],
 "metadata": {
  "kernelspec": {
   "display_name": "Python 3",
   "language": "python",
   "name": "python3"
  },
  "language_info": {
   "codemirror_mode": {
    "name": "ipython",
    "version": 3
   },
   "file_extension": ".py",
   "mimetype": "text/x-python",
   "name": "python",
   "nbconvert_exporter": "python",
   "pygments_lexer": "ipython3",
   "version": "3.7.3"
  }
 },
 "nbformat": 4,
 "nbformat_minor": 4
}
