{
 "cells": [
  {
   "cell_type": "code",
   "execution_count": 13,
   "metadata": {},
   "outputs": [],
   "source": [
    "import os\n",
    "\n",
    "import matplotlib.pyplot as plt\n",
    "import numpy as np"
   ]
  },
  {
   "cell_type": "code",
   "execution_count": 62,
   "metadata": {
    "scrolled": false
   },
   "outputs": [
    {
     "data": {
      "image/png": "[encoded data removed]",
      "text/plain": [
       "<Figure size 432x288 with 1 Axes>"
      ]
     },
     "metadata": {
      "needs_background": "light"
     },
     "output_type": "display_data"
    }
   ],
   "source": [
    "dynamic_areas = {}\n",
    "static_areas = {}\n",
    "\n",
    "\n",
    "runs = [(4, 'simulator', True, 20)]\n",
    "\n",
    "for num_civs,backend,is_static,years in runs:\n",
    "    \n",
    "    samples = []\n",
    "    folders = [info for info in os.fwalk('data')][0][1]\n",
    "    for folder in folders:\n",
    "        (n,b,s,t) = folder.split('_')\n",
    "        if n==str(num_civs) and b==backend and (s!=None)==is_static:\n",
    "            samples.append(folder)\n",
    "    num_samples = len(samples)\n",
    "                \n",
    "    dynamic_areas[num_civs,backend] = [[] for year in range(years)]\n",
    "    static_areas[num_civs,backend] = [[] for year in range(years)]\n",
    "    for sample in samples:\n",
    "        with open('data/'+sample+'/data.txt', 'r') as file:\n",
    "            data = file.readlines()\n",
    "\n",
    "            opponent = eval(data[-1])['static']\n",
    "            for year, dump in enumerate(data):\n",
    "                if year<years:\n",
    "                    dump = eval(dump)\n",
    "                    area = dump['area']\n",
    "                    opponent = dump['static']\n",
    "\n",
    "                    for civ in area:\n",
    "                        if civ in opponent:\n",
    "                            static_areas[num_civs,backend][year].append(area[civ])\n",
    "                        else:\n",
    "                            dynamic_areas[num_civs,backend][year].append(area[civ])\n",
    "                \n",
    "for num_civs,backend,opponent,years in runs:\n",
    "    ax = plt.gca()\n",
    "    plt.title(str(num_civs) + ' nations, ' +backend)\n",
    "    plt.xlabel('Year, n')\n",
    "    plt.ylabel('Average area')\n",
    "    \n",
    "    y_static = [np.mean(static_areas[num_civs,backend][year]) for year in range(years)]\n",
    "    yerr_static = [np.std(static_areas[num_civs,backend][year])/2 for year in range(years)]\n",
    "    y_dynamic = [np.mean(dynamic_areas[num_civs,backend][year]) for year in range(years)]\n",
    "    yerr_dynamic = [np.std(dynamic_areas[num_civs,backend][year])/2 for year in range(years)]\n",
    "    \n",
    "    ax.errorbar( range(years), y_static, yerr=yerr_static, label='static', fmt='o', capsize=5)\n",
    "    ax.errorbar( range(years), y_dynamic, yerr=yerr_dynamic, label='dynamic', fmt='o', capsize=5)\n",
    "    plt.legend(loc='center left', bbox_to_anchor=(1,0.5))\n",
    "    plt.show()"
   ]
  },
  {
   "cell_type": "code",
   "execution_count": null,
   "metadata": {},
   "outputs": [],
   "source": []
  }
 ],
 "metadata": {
  "kernelspec": {
   "display_name": "Python 3",
   "language": "python",
   "name": "python3"
  },
  "language_info": {
   "codemirror_mode": {
    "name": "ipython",
    "version": 3
   },
   "file_extension": ".py",
   "mimetype": "text/x-python",
   "name": "python",
   "nbconvert_exporter": "python",
   "pygments_lexer": "ipython3",
   "version": "3.8.5"
  }
 },
 "nbformat": 4,
 "nbformat_minor": 4
}
